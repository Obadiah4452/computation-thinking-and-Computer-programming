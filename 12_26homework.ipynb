{
  "nbformat": 4,
  "nbformat_minor": 0,
  "metadata": {
    "colab": {
      "name": "12/26homework.ipynb",
      "provenance": [],
      "include_colab_link": true
    },
    "kernelspec": {
      "name": "python3",
      "display_name": "Python 3"
    }
  },
  "cells": [
    {
      "cell_type": "markdown",
      "metadata": {
        "id": "view-in-github",
        "colab_type": "text"
      },
      "source": [
        "<a href=\"https://colab.research.google.com/github/Obadiah4452/computational-thinking-and-program-design/blob/master/12_26homework.ipynb\" target=\"_parent\"><img src=\"https://colab.research.google.com/assets/colab-badge.svg\" alt=\"Open In Colab\"/></a>"
      ]
    },
    {
      "cell_type": "code",
      "metadata": {
        "id": "6yxVJwNNrGmw",
        "colab_type": "code",
        "outputId": "10df4e04-4553-4884-a1f4-ea7f8f30a6d6",
        "colab": {
          "base_uri": "https://localhost:8080/",
          "height": 85
        }
      },
      "source": [
        "answer = \"123\"\n",
        "while True:\n",
        "    password = input(\"Enter your password:\")\n",
        "    if password == answer:\n",
        "      print(\"Correct\")\n",
        "      break\n",
        "    else:\n",
        "      print(\"Fail,Try again\")"
      ],
      "execution_count": 0,
      "outputs": [
        {
          "output_type": "stream",
          "text": [
            "Enter your password:456\n",
            "Fail,Try again\n",
            "Enter your password:123\n",
            "Correct\n"
          ],
          "name": "stdout"
        }
      ]
    },
    {
      "cell_type": "code",
      "metadata": {
        "id": "mIV1xl37rNnH",
        "colab_type": "code",
        "outputId": "2f143e92-b007-4c8a-da40-fc9344a4b0d5",
        "colab": {
          "base_uri": "https://localhost:8080/",
          "height": 170
        }
      },
      "source": [
        "answer1 = \"123\"\n",
        "answer2 = \"456\"\n",
        "while True:\n",
        "    n1 = input(\"Enter your password:\")\n",
        "    n2 = input(\"Enter your account:\")\n",
        "    if n1 == answer1 and n2 == answer2:\n",
        "      print(\"Account and Password Correct\")\n",
        "      break\n",
        "    else:\n",
        "      print(\"Fail,Try again\")"
      ],
      "execution_count": 0,
      "outputs": [
        {
          "output_type": "stream",
          "text": [
            "Enter your password:45\n",
            "Enter your account:231\n",
            "Fail,Try again\n",
            "Enter your password:456\n",
            "Enter your account:123\n",
            "Fail,Try again\n",
            "Enter your password:123\n",
            "Enter your account:456\n",
            "Account and Password Correct\n"
          ],
          "name": "stdout"
        }
      ]
    },
    {
      "cell_type": "code",
      "metadata": {
        "id": "exty73_Us9wk",
        "colab_type": "code",
        "outputId": "688afceb-2ef2-415a-eb1b-e1f3e43647f6",
        "colab": {
          "base_uri": "https://localhost:8080/",
          "height": 136
        }
      },
      "source": [
        "answer1 = \"a123456\"\n",
        "x = 3\n",
        "while True:\n",
        "    n1 = input(\"Enter your password,you have 3 chance:\")\n",
        "    if n1 == answer1:\n",
        "      print(\"Correct\")\n",
        "      break\n",
        "    else:\n",
        "      x = x - 1\n",
        "      print(\"Fail,you have\",x,\"chance\")\n",
        "    if x == 0:\n",
        "      print(\"you fail\")\n",
        "      break"
      ],
      "execution_count": 0,
      "outputs": [
        {
          "output_type": "stream",
          "text": [
            "Enter your password,you have 3 chance:456\n",
            "Fail,you have 2 chance\n",
            "Enter your password,you have 3 chance:123\n",
            "Fail,you have 1 chance\n",
            "Enter your password,you have 3 chance:456\n",
            "Fail,you have 0 chance\n",
            "you fail\n"
          ],
          "name": "stdout"
        }
      ]
    },
    {
      "cell_type": "code",
      "metadata": {
        "id": "RGvu7SplwPe9",
        "colab_type": "code",
        "outputId": "70732cf2-ff7d-4cf1-ed88-8bb3ef90e6cc",
        "colab": {
          "base_uri": "https://localhost:8080/",
          "height": 34
        }
      },
      "source": [
        "for a in range(6):\n",
        "    print(a, end=\" \")\n",
        "print(\"\")"
      ],
      "execution_count": 0,
      "outputs": [
        {
          "output_type": "stream",
          "text": [
            "0 1 2 3 4 5 \n"
          ],
          "name": "stdout"
        }
      ]
    },
    {
      "cell_type": "code",
      "metadata": {
        "id": "ZqLL8GVs25Pv",
        "colab_type": "code",
        "outputId": "bcc7b564-b1ab-47da-95cf-04a25093ea81",
        "colab": {
          "base_uri": "https://localhost:8080/",
          "height": 34
        }
      },
      "source": [
        "sum = 0\n",
        "for x in range(1,11,2):\n",
        "  sum = sum + x\n",
        "print(\"1+3+5+7+9=\",sum)"
      ],
      "execution_count": 0,
      "outputs": [
        {
          "output_type": "stream",
          "text": [
            "1+3+5+7+9= 25\n"
          ],
          "name": "stdout"
        }
      ]
    },
    {
      "cell_type": "code",
      "metadata": {
        "id": "jDha20L-35sD",
        "colab_type": "code",
        "colab": {}
      },
      "source": [
        ""
      ],
      "execution_count": 0,
      "outputs": []
    }
  ]
}