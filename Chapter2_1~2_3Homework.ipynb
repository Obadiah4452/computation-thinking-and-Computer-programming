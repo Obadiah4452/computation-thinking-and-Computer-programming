{
  "nbformat": 4,
  "nbformat_minor": 0,
  "metadata": {
    "colab": {
      "name": "Chapter2-1~2-3Homework.ipynb",
      "provenance": [],
      "include_colab_link": true
    },
    "kernelspec": {
      "name": "python3",
      "display_name": "Python 3"
    }
  },
  "cells": [
    {
      "cell_type": "markdown",
      "metadata": {
        "id": "view-in-github",
        "colab_type": "text"
      },
      "source": [
        "<a href=\"https://colab.research.google.com/github/Obadiah4452/computational-thinking-and-program-design/blob/master/Chapter2_1~2_3Homework.ipynb\" target=\"_parent\"><img src=\"https://colab.research.google.com/assets/colab-badge.svg\" alt=\"Open In Colab\"/></a>"
      ]
    },
    {
      "cell_type": "code",
      "metadata": {
        "id": "bRjzeGgrZl9l",
        "colab_type": "code",
        "colab": {
          "base_uri": "https://localhost:8080/",
          "height": 119
        },
        "outputId": "660bc6b8-ac28-4e43-b0e0-a93762ee3a29"
      },
      "source": [
        "b = True\n",
        "print(b,type(b))\n",
        "num = 20\n",
        "print(num,type(num))\n",
        "pi = 3.14\n",
        "print(pi,type(pi))\n",
        "s = \"Hello\"\n",
        "print(s,type(s))\n",
        "a = 1\n",
        "print(a,id(a))\n",
        "a = 'Python'\n",
        "print(a,id(a))\n",
        "x = 1\n",
        "y = x\n",
        "print(id(x),id(y))\n",
        "print(x,y)\n",
        "x = [1,2,3]\n",
        "y = [1,2,3]\n",
        "print(id(x),id(y))\n",
        "print( x is y)\n",
        "print( x == y)\n"
      ],
      "execution_count": 1,
      "outputs": [
        {
          "output_type": "stream",
          "text": [
            "True <class 'bool'>\n",
            "20 <class 'int'>\n",
            "3.14 <class 'float'>\n",
            "Hello <class 'str'>\n",
            "1 10914496\n",
            "Python 140593343499320\n"
          ],
          "name": "stdout"
        }
      ]
    }
  ]
}