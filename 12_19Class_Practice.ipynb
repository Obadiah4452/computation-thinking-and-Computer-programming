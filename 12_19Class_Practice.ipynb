{
  "nbformat": 4,
  "nbformat_minor": 0,
  "metadata": {
    "colab": {
      "name": "12/19Class Practice.ipynb",
      "provenance": [],
      "include_colab_link": true
    },
    "kernelspec": {
      "name": "python3",
      "display_name": "Python 3"
    }
  },
  "cells": [
    {
      "cell_type": "markdown",
      "metadata": {
        "id": "view-in-github",
        "colab_type": "text"
      },
      "source": [
        "<a href=\"https://colab.research.google.com/github/Obadiah4452/computational-thinking-and-program-design/blob/master/12_19Class_Practice.ipynb\" target=\"_parent\"><img src=\"https://colab.research.google.com/assets/colab-badge.svg\" alt=\"Open In Colab\"/></a>"
      ]
    },
    {
      "cell_type": "code",
      "metadata": {
        "id": "Dd-wGtHToST7",
        "colab_type": "code",
        "colab": {
          "base_uri": "https://localhost:8080/",
          "height": 102
        },
        "outputId": "93ca0631-7f7d-4c9d-e05c-f7578a8d0e34"
      },
      "source": [
        "x = 1 \n",
        "while x < 5:\n",
        "    print(\"Variable x is\", x)\n",
        "    x = x + 1\n",
        "print(\"Finshed\")"
      ],
      "execution_count": 5,
      "outputs": [
        {
          "output_type": "stream",
          "text": [
            "Variable x is 1\n",
            "Variable x is 2\n",
            "Variable x is 3\n",
            "Variable x is 4\n",
            "Finshed\n"
          ],
          "name": "stdout"
        }
      ]
    },
    {
      "cell_type": "code",
      "metadata": {
        "id": "hcqZc9Mlpi_e",
        "colab_type": "code",
        "colab": {
          "base_uri": "https://localhost:8080/",
          "height": 204
        },
        "outputId": "040061c6-bf19-49da-dea9-5068ce606335"
      },
      "source": [
        "x = 0\n",
        "while x < 10:\n",
        "    x = x + 1\n",
        "    left = 10 - x\n",
        "    print(\"This is\",x,\"times Hello.\",\"You still have\",left,\"times\")\n",
        "print(\"Finished\")"
      ],
      "execution_count": 13,
      "outputs": [
        {
          "output_type": "stream",
          "text": [
            "This is 1 times Hello. You still have 9 times\n",
            "This is 2 times Hello. You still have 8 times\n",
            "This is 3 times Hello. You still have 7 times\n",
            "This is 4 times Hello. You still have 6 times\n",
            "This is 5 times Hello. You still have 5 times\n",
            "This is 6 times Hello. You still have 4 times\n",
            "This is 7 times Hello. You still have 3 times\n",
            "This is 8 times Hello. You still have 2 times\n",
            "This is 9 times Hello. You still have 1 times\n",
            "This is 10 times Hello. You still have 0 times\n",
            "Finished\n"
          ],
          "name": "stdout"
        }
      ]
    },
    {
      "cell_type": "code",
      "metadata": {
        "id": "ONy7ck90tZu2",
        "colab_type": "code",
        "colab": {
          "base_uri": "https://localhost:8080/",
          "height": 204
        },
        "outputId": "83a4879a-8aad-4581-ff80-698338bf2c3b"
      },
      "source": [
        "x = 0\n",
        "sum = 0 \n",
        "while x < 10:\n",
        "    x = x + 1\n",
        "    sum = sum + x\n",
        "    print(\"Sum is\", sum)\n",
        "print(\"Finished\")"
      ],
      "execution_count": 14,
      "outputs": [
        {
          "output_type": "stream",
          "text": [
            "Sum is 1\n",
            "Sum is 3\n",
            "Sum is 6\n",
            "Sum is 10\n",
            "Sum is 15\n",
            "Sum is 21\n",
            "Sum is 28\n",
            "Sum is 36\n",
            "Sum is 45\n",
            "Sum is 55\n",
            "Finished\n"
          ],
          "name": "stdout"
        }
      ]
    },
    {
      "cell_type": "code",
      "metadata": {
        "id": "kErH3lbxvwAj",
        "colab_type": "code",
        "colab": {
          "base_uri": "https://localhost:8080/",
          "height": 34
        },
        "outputId": "3514d236-3f4d-4b60-de10-c27b4ed5b7d3"
      },
      "source": [
        "x = 0\n",
        "sum = 0\n",
        "KF = 50\n",
        "while sum <= KF:\n",
        "    x = x + 1\n",
        "    sum = sum + x\n",
        "print(\"Last plus X is\",x)"
      ],
      "execution_count": 24,
      "outputs": [
        {
          "output_type": "stream",
          "text": [
            "Last plus X is 10\n"
          ],
          "name": "stdout"
        }
      ]
    },
    {
      "cell_type": "code",
      "metadata": {
        "id": "jza4nXMlxWhj",
        "colab_type": "code",
        "colab": {
          "base_uri": "https://localhost:8080/",
          "height": 34
        },
        "outputId": "0ac45afb-570e-44c2-e6bf-a36b8dbe8d58"
      },
      "source": [
        "x = 1\n",
        "sum = 0\n",
        "while x < 11:\n",
        "    sum = sum + x\n",
        "    x = x + 2\n",
        "print(\"Sum is\",sum)"
      ],
      "execution_count": 25,
      "outputs": [
        {
          "output_type": "stream",
          "text": [
            "Sum is 25\n"
          ],
          "name": "stdout"
        }
      ]
    },
    {
      "cell_type": "code",
      "metadata": {
        "id": "MrWaXfy4yZ9i",
        "colab_type": "code",
        "colab": {
          "base_uri": "https://localhost:8080/",
          "height": 34
        },
        "outputId": "5eb56501-15da-47a2-cec9-977b2bde3139"
      },
      "source": [
        "x = 0\n",
        "sum = 0\n",
        "LOC = 1000\n",
        "while sum <= 1000:\n",
        "    x = x + 1\n",
        "    sum = sum + x**2\n",
        "print(\"X is\",x)"
      ],
      "execution_count": 28,
      "outputs": [
        {
          "output_type": "stream",
          "text": [
            "X is 14\n"
          ],
          "name": "stdout"
        }
      ]
    },
    {
      "cell_type": "code",
      "metadata": {
        "id": "UlPWJAPF0xA3",
        "colab_type": "code",
        "colab": {}
      },
      "source": [
        ""
      ],
      "execution_count": 0,
      "outputs": []
    }
  ]
}