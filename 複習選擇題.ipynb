{
  "nbformat": 4,
  "nbformat_minor": 0,
  "metadata": {
    "colab": {
      "name": "複習選擇題.ipynb",
      "provenance": [],
      "collapsed_sections": [],
      "include_colab_link": true
    },
    "kernelspec": {
      "name": "python3",
      "display_name": "Python 3"
    }
  },
  "cells": [
    {
      "cell_type": "markdown",
      "metadata": {
        "id": "view-in-github",
        "colab_type": "text"
      },
      "source": [
        "<a href=\"https://colab.research.google.com/github/Obadiah4452/computational-thinking-and-program-design/blob/master/%E8%A4%87%E7%BF%92%E9%81%B8%E6%93%87%E9%A1%8C.ipynb\" target=\"_parent\"><img src=\"https://colab.research.google.com/assets/colab-badge.svg\" alt=\"Open In Colab\"/></a>"
      ]
    },
    {
      "cell_type": "code",
      "metadata": {
        "id": "p6Zqp_yznQYQ",
        "colab_type": "code",
        "outputId": "600590e9-def9-4674-9723-689bdbd007fe",
        "colab": {
          "base_uri": "https://localhost:8080/",
          "height": 85
        }
      },
      "source": [
        "print('下列何者代表Python的註解')\n",
        "print('答案為(A)#')\n",
        "print('在Python程式語言中，下列何者變數名稱是正確的?')\n",
        "print('答案為(A)_if')\n",
        "print('在Python程式語言中，利用input指令讀到的值，型態為?')\n",
        "print('答案為(B)字串')\n",
        "print('在Python程式語言中，若a=\"12\"、b=\"34\"，則print(a+b)結果為?')\n",
        "print('答案為(C)1234')\n",
        "print(\"在print敘述中哪一個為錯誤\")\n",
        "print(\"答案為(D)每一次執行完print敘述後都不會跳行,所以也不必使用end來輔助\")\n",
        "print(\"假設利用 num = input() 輸入10,再執行 a = num + 100,試問其a值為\")\n",
        "print(\"產生錯誤訊息\")"
      ],
      "execution_count": 0,
      "outputs": [
        {
          "output_type": "stream",
          "text": [
            "在Python程式語言中，下列何者變數名稱是正確的?\n",
            "答案為(A)_if\n",
            "在Python程式語言中，利用input指令讀到的值，型態為?\n",
            "答案為(B)字串\n"
          ],
          "name": "stdout"
        }
      ]
    }
  ]
}