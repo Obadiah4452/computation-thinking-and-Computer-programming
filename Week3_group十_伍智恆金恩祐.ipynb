{
  "nbformat": 4,
  "nbformat_minor": 0,
  "metadata": {
    "colab": {
      "name": "Week3-group十-伍智恆金恩祐.ipynb",
      "provenance": [],
      "collapsed_sections": [],
      "include_colab_link": true
    },
    "kernelspec": {
      "name": "python2",
      "display_name": "Python 2"
    }
  },
  "cells": [
    {
      "cell_type": "markdown",
      "metadata": {
        "id": "view-in-github",
        "colab_type": "text"
      },
      "source": [
        "<a href=\"https://colab.research.google.com/github/Obadiah4452/computational-thinking-and-program-design/blob/master/Week3_group%E5%8D%81_%E4%BC%8D%E6%99%BA%E6%81%86%E9%87%91%E6%81%A9%E7%A5%90.ipynb\" target=\"_parent\"><img src=\"https://colab.research.google.com/assets/colab-badge.svg\" alt=\"Open In Colab\"/></a>"
      ]
    },
    {
      "cell_type": "code",
      "metadata": {
        "id": "RHgAwex1EQvk",
        "colab_type": "code",
        "outputId": "d37f46b8-82e9-49fe-ea19-6e526550455c",
        "colab": {
          "base_uri": "https://localhost:8080/",
          "height": 34
        }
      },
      "source": [
        "print (\"Hello world\")"
      ],
      "execution_count": 0,
      "outputs": [
        {
          "output_type": "stream",
          "text": [
            "Hello world\n"
          ],
          "name": "stdout"
        }
      ]
    },
    {
      "cell_type": "code",
      "metadata": {
        "id": "cZxt6RzoLyuz",
        "colab_type": "code",
        "colab": {}
      },
      "source": [
        "print (\"我是金恩祐\")\n",
        "primt(\"我是伍智恆\")"
      ],
      "execution_count": 0,
      "outputs": []
    },
    {
      "cell_type": "code",
      "metadata": {
        "id": "Oa4cF_c8R5MJ",
        "colab_type": "code",
        "colab": {}
      },
      "source": [
        ""
      ],
      "execution_count": 0,
      "outputs": []
    }
  ]
}