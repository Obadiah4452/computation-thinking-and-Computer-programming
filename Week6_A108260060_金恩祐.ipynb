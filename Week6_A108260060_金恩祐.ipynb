{
  "nbformat": 4,
  "nbformat_minor": 0,
  "metadata": {
    "colab": {
      "name": "Week6-A108260060-金恩祐.ipynb",
      "provenance": [],
      "collapsed_sections": [],
      "include_colab_link": true
    },
    "kernelspec": {
      "name": "python3",
      "display_name": "Python 3"
    }
  },
  "cells": [
    {
      "cell_type": "markdown",
      "metadata": {
        "id": "view-in-github",
        "colab_type": "text"
      },
      "source": [
        "<a href=\"https://colab.research.google.com/github/Obadiah4452/computational-thinking-and-program-design/blob/master/Week6_A108260060_%E9%87%91%E6%81%A9%E7%A5%90.ipynb\" target=\"_parent\"><img src=\"https://colab.research.google.com/assets/colab-badge.svg\" alt=\"Open In Colab\"/></a>"
      ]
    },
    {
      "cell_type": "code",
      "metadata": {
        "id": "xxkt747AQTsa",
        "colab_type": "code",
        "colab": {}
      },
      "source": [
        "x = int(input('請輸入第一次期中考成績?'))\n",
        "y = int(input('請輸入第二次期中考成績?'))\n",
        "z = int(input('請輸入期末成績'))\n",
        "總分 = x + y + z\n",
        "平均 = (x + y + z)/3\n",
        "print('總分為', 總分,'平均為', 平均)"
      ],
      "execution_count": 0,
      "outputs": []
    },
    {
      "cell_type": "code",
      "metadata": {
        "id": "zWuh3xxuRq70",
        "colab_type": "code",
        "colab": {}
      },
      "source": [
        "w = int(input('請輸入幾尺'))\n",
        "print(w,'尺')\n",
        "t = int(input('請輸入幾吋'))\n",
        "print(t,'吋')\n",
        "f = (w*12+t)*2.54\n",
        "print('轉換成',f,'公分')"
      ],
      "execution_count": 0,
      "outputs": []
    },
    {
      "cell_type": "code",
      "metadata": {
        "id": "LO-jS16US2IR",
        "colab_type": "code",
        "outputId": "b0b0938f-adc0-4c2a-b34b-646327bca41d",
        "colab": {
          "base_uri": "https://localhost:8080/",
          "height": 51
        }
      },
      "source": [
        "import math\n",
        "e = int(input('請輸入座號'))\n",
        "l = e/5 #每組五人\n",
        "print('組別為' ,math.ceil(l)) #若分組除下來有餘，則無條件進位"
      ],
      "execution_count": 0,
      "outputs": [
        {
          "output_type": "stream",
          "text": [
            "請輸入座號21\n",
            "組別為 5\n"
          ],
          "name": "stdout"
        }
      ]
    },
    {
      "cell_type": "code",
      "metadata": {
        "id": "jWpJTfcTVZ82",
        "colab_type": "code",
        "outputId": "55c23c60-63ae-4ce1-c8f2-22c81b03b766",
        "colab": {
          "base_uri": "https://localhost:8080/",
          "height": 51
        }
      },
      "source": [
        "u = int(input('請輸入購買飲料的罐數'))\n",
        "p = u/12 #計算幾打\n",
        "v = int(p)*200 #打的價錢\n",
        "y = int(p) #幾打的整數(例如兩打)\n",
        "l = 12*y  #打數乘上12\n",
        "h = (u - l)*20 #未滿一打的罐數\n",
        "x = h+v #打的價錢+未滿一打的罐數的價錢\n",
        "print('需花費', x) "
      ],
      "execution_count": 0,
      "outputs": [
        {
          "output_type": "stream",
          "text": [
            "請輸入購買飲料的罐數100\n",
            "需花費 1680\n"
          ],
          "name": "stdout"
        }
      ]
    },
    {
      "cell_type": "code",
      "metadata": {
        "id": "YGLJA5bcwqcL",
        "colab_type": "code",
        "outputId": "b972462e-faae-453b-b381-cf0d38a61417",
        "colab": {
          "base_uri": "https://localhost:8080/",
          "height": 175
        }
      },
      "source": [
        "print('1KB=',2**10,'Byte')\n",
        "print('1MB=',2**20,'Byte')\n",
        "print('1GB=',2**30,'Byte')\n",
        "print('1TB=',2**40,'Byte')\n",
        "print('1PB=',2**50,'Byte')\n",
        "print('1EB=',2**60,'Byte')\n",
        "print('1ZB=',2**70,'Bute')\n",
        "print('1YB=',2**80,'Byte')"
      ],
      "execution_count": 0,
      "outputs": [
        {
          "output_type": "stream",
          "text": [
            "1KB= 1024 Byte\n",
            "1MB= 1048576 Byte\n",
            "1GB= 1073741824 Byte\n",
            "1TB= 1099511627776 Byte\n",
            "1PB= 1125899906842624 Byte\n",
            "1EB= 1152921504606846976 Byte\n",
            "1ZB= 1180591620717411303424 Bute\n",
            "1YB= 1208925819614629174706176 Byte\n"
          ],
          "name": "stdout"
        }
      ]
    }
  ]
}