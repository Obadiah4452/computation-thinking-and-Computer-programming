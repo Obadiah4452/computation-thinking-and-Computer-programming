{
  "nbformat": 4,
  "nbformat_minor": 0,
  "metadata": {
    "colab": {
      "name": "Week9-A108260060_金恩祐.ipynb",
      "provenance": [],
      "collapsed_sections": [],
      "include_colab_link": true
    },
    "kernelspec": {
      "name": "python3",
      "display_name": "Python 3"
    }
  },
  "cells": [
    {
      "cell_type": "markdown",
      "metadata": {
        "id": "view-in-github",
        "colab_type": "text"
      },
      "source": [
        "<a href=\"https://colab.research.google.com/github/Obadiah4452/computational-thinking-and-program-design/blob/master/Week9_A108260060_%E9%87%91%E6%81%A9%E7%A5%90.ipynb\" target=\"_parent\"><img src=\"https://colab.research.google.com/assets/colab-badge.svg\" alt=\"Open In Colab\"/></a>"
      ]
    },
    {
      "cell_type": "code",
      "metadata": {
        "id": "MdOGrL3Fam5X",
        "colab_type": "code",
        "colab": {
          "base_uri": "https://localhost:8080/",
          "height": 51
        },
        "outputId": "183a401d-8d36-4ff1-933d-848b33921fd6"
      },
      "source": [
        "score = int(input('請輸入成績'))\n",
        "if score >= 60:\n",
        "    print('Well done')"
      ],
      "execution_count": 3,
      "outputs": [
        {
          ],
          "name": "stdout"
        }
      ]
    },
    {
      "cell_type": "code",
      "metadata": {
        "id": "Q8grPBiPeOXE",
        "colab_type": "code",
        "colab": {}
      },
      "source": [
        "Nurgle = int(input('請輸入成績'))\n",
        "if Nurgle >= 60:\n",
        "    print('Well done')\n",
        "else:\n",
        "    print('加油')"
      ],
      "execution_count": 0,
      "outputs": []
    },
    {
      "cell_type": "code",
      "metadata": {
        "id": "631EdDqeeo0d",
        "colab_type": "code",
        "colab": {
          "base_uri": "https://localhost:8080/",
          "height": 51
        },
        "outputId": "538cfdc0-7da8-412a-a987-c5a6a50ba40c"
      },
      "source": [
        "Tzeentch =int(input('請輸入成績'))\n",
        "if Tzeentch >= 80:\n",
        "    print('非常好')\n",
        "elif Tzeentch >= 60:\n",
        "    print('還可以')\n",
        "else:\n",
        "    print('請加油')"
      ],
      "execution_count": 7,
      "outputs": [
        {
          "output_type": "stream",
          "text": [
            "請輸入成績80\n",
            "非常好\n"
          ],
          "name": "stdout"
        }
      ]
    },
    {
      "cell_type": "code",
      "metadata": {
        "id": "A2tDG0Y8g7IV",
        "colab_type": "code",
        "colab": {
          "base_uri": "https://localhost:8080/",
          "height": 85
        },
        "outputId": "a95dd6b8-927e-4332-895d-c87e2318a1a3"
      },
      "source": [
        "Slaanesh = float(input('請輸入X座標'))\n",
        "Khrone = float(input('請輸入Y座標'))\n",
        "if (Slaanesh > 0):\n",
        "  if (Khrone > 0):\n",
        "    print('為第一象限')\n",
        "  else:\n",
        "    print('為第四象限')\n",
        "else:\n",
        "  if (Khrone > 0):\n",
        "    print('為第二象限')\n",
        "  else:\n",
        "    print('為第三象限')"
      ],
      "execution_count": 12,
      "outputs": [
        {
          "output_type": "stream",
          "text": [
            "請輸入X座標0\n",
            "請輸入Y座標0\n",
            "為第三象限\n",
          ],
          "name": "stdout"
        }
      ]
    }
  ]
}
