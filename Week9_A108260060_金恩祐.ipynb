{
  "nbformat": 4,
  "nbformat_minor": 0,
  "metadata": {
    "colab": {
      "name": "Week9-A108260060_金恩祐.ipynb",
      "provenance": [],
      "collapsed_sections": [],
      "include_colab_link": true
    },
    "kernelspec": {
      "name": "python3",
      "display_name": "Python 3"
    }
  },
  "cells": [
    {
      "cell_type": "markdown",
      "metadata": {
        "id": "view-in-github",
        "colab_type": "text"
      },
      "source": [
        "<a href=\"https://colab.research.google.com/github/Obadiah4452/computational-thinking-and-program-design/blob/master/Week9_A108260060_%E9%87%91%E6%81%A9%E7%A5%90.ipynb\" target=\"_parent\"><img src=\"https://colab.research.google.com/assets/colab-badge.svg\" alt=\"Open In Colab\"/></a>"
      ]
    },
    {
      "cell_type": "code",
      "metadata": {
        "id": "MdOGrL3Fam5X",
        "colab_type": "code",
        "outputId": "6a5c11a4-a1fb-483c-a065-f905ad7a3f25",
        "colab": {
          "base_uri": "https://localhost:8080/",
          "height": 51
        }
      },
      "source": [
        "score = int(input('請輸入成績'))\n",
        "if score >= 60:\n",
        "    print('Well done')"
      ],
      "execution_count": 1,
      "outputs": [
        {
          "output_type": "stream",
          "text": [
            "請輸入成績61\n",
            "Well done\n"
          ],
          "name": "stdout"
        }
      ]
    },
    {
      "cell_type": "code",
      "metadata": {
        "id": "Q8grPBiPeOXE",
        "colab_type": "code",
        "colab": {}
      },
      "source": [
        "Nurgle = int(input('請輸入成績'))\n",
        "if Nurgle >= 60:\n",
        "    print('Well done')\n",
        "else:\n",
        "    print('加油')"
      ],
      "execution_count": 0,
      "outputs": []
    },
    {
      "cell_type": "code",
      "metadata": {
        "id": "631EdDqeeo0d",
        "colab_type": "code",
        "outputId": "538cfdc0-7da8-412a-a987-c5a6a50ba40c",
        "colab": {
          "base_uri": "https://localhost:8080/",
          "height": 51
        }
      },
      "source": [
        "Tzeentch =int(input('請輸入成績'))\n",
        "if Tzeentch >= 80:\n",
        "    print('非常好')\n",
        "elif Tzeentch >= 60:\n",
        "    print('還可以')\n",
        "else:\n",
        "    print('請加油')"
      ],
      "execution_count": 0,
      "outputs": [
        {
          "output_type": "stream",
          "text": [
            "請輸入成績80\n",
            "非常好\n"
          ],
          "name": "stdout"
        }
      ]
    },
    {
      "cell_type": "code",
      "metadata": {
        "id": "A2tDG0Y8g7IV",
        "colab_type": "code",
        "outputId": "39f9b20f-ce13-4f41-a6ac-73da2b917d2e",
        "colab": {
          "base_uri": "https://localhost:8080/",
          "height": 68
        }
      },
      "source": [
        "Slaanesh = float(input('請輸入X座標'))\n",
        "Khrone = float(input('請輸入Y座標'))\n",
        "if (Slaanesh > 0):\n",
        "  if (Khrone > 0):\n",
        "    print('為第一象限')\n",
        "  else:\n",
        "    print('為第四象限')\n",
        "else:\n",
        "  if (Khrone > 0):\n",
        "    print('為第二象限')\n",
        "  else:\n",
        "    print('為第三象限')"
      ],
      "execution_count": 2,
      "outputs": [
        {
          "output_type": "stream",
          "text": [
            "請輸入X座標20\n",
            "請輸入Y座標-10\n",
            "為第四象限\n"
          ],
          "name": "stdout"
        }
      ]
    }
  ]
}