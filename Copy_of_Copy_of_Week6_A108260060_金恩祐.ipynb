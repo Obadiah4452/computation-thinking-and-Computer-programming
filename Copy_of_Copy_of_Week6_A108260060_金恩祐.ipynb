{
  "nbformat": 4,
  "nbformat_minor": 0,
  "metadata": {
    "colab": {
      "name": "Copy of Copy of Week6-A108260060-金恩祐.ipynb",
      "provenance": [],
      "collapsed_sections": [],
      "include_colab_link": true
    },
    "kernelspec": {
      "name": "python3",
      "display_name": "Python 3"
    }
  },
  "cells": [
    {
      "cell_type": "markdown",
      "metadata": {
        "id": "view-in-github",
        "colab_type": "text"
      },
      "source": [
        "<a href=\"https://colab.research.google.com/github/Obadiah4452/computational-thinking-and-program-design/blob/master/Copy_of_Copy_of_Week6_A108260060_%E9%87%91%E6%81%A9%E7%A5%90.ipynb\" target=\"_parent\"><img src=\"https://colab.research.google.com/assets/colab-badge.svg\" alt=\"Open In Colab\"/></a>"
      ]
    },
    {
      "cell_type": "code",
      "metadata": {
        "id": "xxkt747AQTsa",
        "colab_type": "code",
        "outputId": "7deeb636-671f-46d8-a0e0-2eac3a979907",
        "colab": {
          "base_uri": "https://localhost:8080/",
          "height": 136
        }
      },
      "source": [
        "x = int(input('請輸入第一次期中考成績?'))\n",
        "print('第一次期中考成績為', x)\n",
        "y = int(input('請輸入第二次期中考成績?'))\n",
        "print('第二次期中考成績為', y)\n",
        "z = int(input('請輸入期末成績'))\n",
        "print('期末成績為', z)\n",
        "總分 = x + y + z\n",
        "平均 = (x + y + z)/3\n",
        "print('總分為', 總分,'平均為', 平均)"
      ],
      "execution_count": 0,
      "outputs": [
        {
          "output_type": "stream",
          "text": [
            "請輸入第一次期中考成績?50\n",
            "第一次期中考成績為 50\n",
            "請輸入第二次期中考成績?70\n",
            "第二次期中考成績為 70\n",
            "請輸入期末成績30\n",
            "期末成績為 30\n",
            "總分為 150 平均為 50.0\n"
          ],
          "name": "stdout"
        }
      ]
    },
    {
      "cell_type": "code",
      "metadata": {
        "id": "zWuh3xxuRq70",
        "colab_type": "code",
        "outputId": "4824a158-e87c-48ab-9ccc-cb56cbb9deb1",
        "colab": {
          "base_uri": "https://localhost:8080/",
          "height": 102
        }
      },
      "source": [
        "w = int(input('請輸入幾尺'))\n",
        "print(w,'尺')\n",
        "t = int(input('請輸入幾吋'))\n",
        "print(t,'吋')\n",
        "f = (w*12+t)*2.54\n",
        "print('轉換成',f,'公分')"
      ],
      "execution_count": 0,
      "outputs": [
        {
          "output_type": "stream",
          "text": [
            "請輸入幾尺5\n",
            "5 尺\n",
            "請輸入幾吋8\n",
            "8 吋\n",
            "轉換成 172.72 公分\n"
          ],
          "name": "stdout"
        }
      ]
    },
    {
      "cell_type": "code",
      "metadata": {
        "id": "LO-jS16US2IR",
        "colab_type": "code",
        "outputId": "0b2665cd-9a81-4266-836e-1fbac0af2336",
        "colab": {
          "base_uri": "https://localhost:8080/",
          "height": 131
        }
      },
      "source": [
        "e = int(input('請輸入座號'))\n",
        "l = e/5\n",
        "\n",
        "print('組別為', )"
      ],
      "execution_count": 0,
      "outputs": [
        {
          "output_type": "error",
          "ename": "SyntaxError",
          "evalue": "ignored",
          "traceback": [
            "\u001b[0;36m  File \u001b[0;32m\"<ipython-input-13-266bdcf46b79>\"\u001b[0;36m, line \u001b[0;32m3\u001b[0m\n\u001b[0;31m    if float(l) > 0\u001b[0m\n\u001b[0m                   ^\u001b[0m\n\u001b[0;31mSyntaxError\u001b[0m\u001b[0;31m:\u001b[0m invalid syntax\n"
          ]
        }
      ]
    },
    {
      "cell_type": "code",
      "metadata": {
        "id": "jWpJTfcTVZ82",
        "colab_type": "code",
        "outputId": "dab26406-8422-4a9e-9bca-de26e19e6264",
        "colab": {
          "base_uri": "https://localhost:8080/",
          "height": 51
        }
      },
      "source": [
        "u = int(input('請輸入購買飲料的罐數'))\n",
        "p = u/12\n",
        "v = int(p)*200\n",
        "y = int(p)\n",
        "l = 12*y\n",
        "h = (u - l)*20\n",
        "x = h+v\n",
        "print('需花費', x)"
      ],
      "execution_count": 0,
      "outputs": [
        {
          "output_type": "stream",
          "text": [
            "請輸入購買飲料的罐數25\n",
            "需花費 420\n"
          ],
          "name": "stdout"
        }
      ]
    }
  ]
}